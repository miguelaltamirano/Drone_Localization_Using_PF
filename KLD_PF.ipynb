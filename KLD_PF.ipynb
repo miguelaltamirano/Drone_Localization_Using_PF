{
  "nbformat": 4,
  "nbformat_minor": 5,
  "metadata": {
    "colab": {
      "name": "KLD-PF.ipynb",
      "provenance": [],
      "collapsed_sections": [
        "m5ups4HWNOVg"
      ]
    },
    "kernelspec": {
      "display_name": "Python 3",
      "language": "python",
      "name": "python3"
    },
    "language_info": {
      "codemirror_mode": {
        "name": "ipython",
        "version": 3
      },
      "file_extension": ".py",
      "mimetype": "text/x-python",
      "name": "python",
      "nbconvert_exporter": "python",
      "pygments_lexer": "ipython3",
      "version": "3.6.9"
    }
  },
  "cells": [
    {
      "cell_type": "code",
      "metadata": {
        "id": "D0lprRD0mzae"
      },
      "source": [
        "SKIP_STEPS = 10\n",
        "LOWER_RES = 60"
      ],
      "id": "D0lprRD0mzae",
      "execution_count": null,
      "outputs": []
    },
    {
      "cell_type": "code",
      "metadata": {
        "id": "raised-overall"
      },
      "source": [
        "import csv\n",
        "import numpy as np\n",
        "import pandas\n",
        "import matplotlib.pyplot as plt\n",
        "import matplotlib.image as mpimg\n",
        "from numpy.random import normal as sample1d\n",
        "import cv2\n",
        "from PIL import Image \n",
        "import numpy as np\n",
        "from math import sin, cos, pi\n",
        "from numpy.random import uniform"
      ],
      "id": "raised-overall",
      "execution_count": null,
      "outputs": []
    },
    {
      "cell_type": "code",
      "metadata": {
        "colab": {
          "base_uri": "https://localhost:8080/"
        },
        "id": "dlBlXTXwwxtz",
        "outputId": "85afa018-7bf8-4959-b8ec-06cfb4057640"
      },
      "source": [
        "from google.colab import drive\n",
        "drive.mount('/content/drive')"
      ],
      "id": "dlBlXTXwwxtz",
      "execution_count": null,
      "outputs": [
        {
          "output_type": "stream",
          "text": [
            "Mounted at /content/drive\n"
          ],
          "name": "stdout"
        }
      ]
    },
    {
      "cell_type": "code",
      "metadata": {
        "id": "B0vB9Jn9Erec"
      },
      "source": [
        "def get_randrad(pos, radius, num):\n",
        "    initial_set = []\n",
        "    for i in range(num):\n",
        "      radius = np.random.uniform() * radius\n",
        "      angle = np.random.uniform() * 2 * pi\n",
        "      initial_set.append([pos[0] + radius * cos(angle), pos[1] + radius * sin(angle)])\n",
        "    initial_set = np.array(initial_set)\n",
        "    return initial_set"
      ],
      "id": "B0vB9Jn9Erec",
      "execution_count": null,
      "outputs": []
    },
    {
      "cell_type": "code",
      "metadata": {
        "id": "intellectual-start"
      },
      "source": [
        "def initiate_particles(intial_state, num):\n",
        "    paticles = np.ones((num,3))\n",
        "    noisy_xy = get_randrad(np.array([intial_state[0], intial_state[1]]), 300, num)\n",
        "    paticles[:, 0] *= noisy_xy[:,0]\n",
        "    paticles[:, 1] *= noisy_xy[:,1]\n",
        "    for i in range(num):\n",
        "      paticles[i, 2] *= intial_state[2] + np.random.uniform() * 0.1 * pi\n",
        "      \n",
        "    return paticles    "
      ],
      "id": "intellectual-start",
      "execution_count": null,
      "outputs": []
    },
    {
      "cell_type": "code",
      "metadata": {
        "id": "western-fashion"
      },
      "source": [
        "def propagate_particle(state, action, cov, alphas): \n",
        "    ''' state: the particle old state np.array() (3,) [x,y,theat]\n",
        "    action: control action np.array() 2,, [dtran, drot]\n",
        "    noise_cov: the motion model noise covariance. for this paper the estimated error standard deviation is 1/3\n",
        "    alphas:  measurement noise scale coefficients, selected manually, np.array() (3,) [alpha1, alpha2, alpha3]\n",
        "    ''' \n",
        "    state_new = np.ones_like(state)\n",
        "    dtran = action[0] + sample1d(0, cov)\n",
        "    drot = action[1] + sample1d(0, cov)\n",
        "    state_new[0] = state[0]+alphas[0]*dtran*np.cos(state[2]+alphas[2]*drot)\n",
        "    state_new[1] = state[1]+alphas[1]*dtran*np.sin(state[2]+alphas[2]*drot)\n",
        "    state_new[2] = wrap_angle(state[2]+alphas[2]*drot)\n",
        "    return state_new"
      ],
      "id": "western-fashion",
      "execution_count": null,
      "outputs": []
    },
    {
      "cell_type": "code",
      "metadata": {
        "id": "certified-underground"
      },
      "source": [
        "'''\n",
        "I - image from camera\n",
        "T - image from map from particle\n",
        "They should have same dimensions\n",
        "Written with numpy functions \n",
        "'''\n",
        "def logistic(x, v):\n",
        "    return (1/((1+np.exp(-5*x))**(1/v)))\n",
        "\n",
        "def find_r(I, T, v):\n",
        "    W = I.shape[0]\n",
        "    H = I.shape[1]\n",
        "    T_ = T - np.sum(T)/(W*H)\n",
        "    I_ = I - np.sum(I)/(W*H)\n",
        "    r = np.sum(T_*I_)/((np.sum(I_**2)**0.5)*(np.sum(T_**2)**0.5))\n",
        "    #print('R = ', r)\n",
        "    #logistic transform\n",
        "    L_r = logistic(r,v)/logistic(1,v)\n",
        "    return L_r"
      ],
      "id": "certified-underground",
      "execution_count": null,
      "outputs": []
    },
    {
      "cell_type": "code",
      "metadata": {
        "id": "returning-pursuit"
      },
      "source": [
        "'''\n",
        " Map - whole map\n",
        " pos - np.array([x, y, theta]) from particles\n",
        " dim - dimension of camera picture [Width, Height]\n",
        "'''\n",
        "def rotate_pic(Map, pos, dim):\n",
        "    W = dim[0]\n",
        "    H = dim[1]\n",
        "    \n",
        "    theta = pos[2]\n",
        "    Tr_Matrix = np.array([[cos(theta), sin(theta)],[-sin(theta), cos(theta)]])\n",
        "\n",
        "    Old_Indexes = []\n",
        "    X = np.array(range(-W//2+1, W//2+1))\n",
        "    Y = np.array(range(-H//2+1, H//2+1))\n",
        "    for i in X:\n",
        "        for j in Y:\n",
        "            Old_Indexes.append([i, j])\n",
        "            \n",
        "    Old_Indexes = np.array(Old_Indexes).T\n",
        "    New_Indexes = np.array(Tr_Matrix@Old_Indexes + pos[:2].reshape(2,1), dtype = np.int16 )\n",
        "\n",
        "    Cut_im = np.ones([W,H])\n",
        "    n = 0\n",
        "\n",
        "    for x in range(W):\n",
        "        for y in range(H):\n",
        "            Cut_im[x,y] = Map[New_Indexes[0,n],New_Indexes[1,n]]\n",
        "            n += 1\n",
        "    plt.title('cropped Image')\n",
        "    plt.imshow(Cut_im, cmap='gray',origin='lower')\n",
        "    plt.show()\n",
        "    return Cut_im"
      ],
      "id": "returning-pursuit",
      "execution_count": null,
      "outputs": []
    },
    {
      "cell_type": "code",
      "metadata": {
        "id": "ordered-mechanics"
      },
      "source": [
        "def get_prob(Imag, Map, Particles, v):\n",
        "    Samples = []\n",
        "    W = int(Imag.shape[0])\n",
        "    H = int(Imag.shape[1])\n",
        "\n",
        "    for i in range(Particles.shape[0]):\n",
        "        pos = Particles[i]       #[x, y, theta]\n",
        "        T = rotate_pic(Map, pos, [W,H])\n",
        "        F_r = find_r(Imag, T, v)\n",
        "        Samples.append(F_r)\n",
        "    \n",
        "    Samples = np.array(Samples)\n",
        "    return F_r"
      ],
      "id": "ordered-mechanics",
      "execution_count": null,
      "outputs": []
    },
    {
      "cell_type": "code",
      "metadata": {
        "id": "hispanic-stevens"
      },
      "source": [
        "def get_svo_commands(svo_x, svo_y):\n",
        "    current_position = np.array([0,0,0])\n",
        "    drot = []\n",
        "    dtrans = []\n",
        "\n",
        "    for i in range(1, svo_x.shape[0], SKIP_STEPS):\n",
        "        x_position = svo_x[i]\n",
        "        y_position = svo_y[i]\n",
        "        # Deduce Motion commands\n",
        "        drot_temp = np.arctan2(y_position - current_position[1], x_position - current_position[0]) - current_position[2]\n",
        "        dtrans_temp = np.sqrt((x_position - current_position[0])**2 + (y_position - current_position[1])**2)\n",
        "        # update current position\n",
        "        current_position = np.array([x_position, y_position, current_position[2] + drot_temp])\n",
        "        drot.append(drot_temp)\n",
        "        dtrans.append(dtrans_temp)\n",
        "\n",
        "    dtrans = np.array(dtrans)\n",
        "    drot = np.array(drot)\n",
        "    return dtrans, drot"
      ],
      "id": "hispanic-stevens",
      "execution_count": null,
      "outputs": []
    },
    {
      "cell_type": "code",
      "metadata": {
        "id": "strategic-catholic"
      },
      "source": [
        "'''\n",
        "Wraps the given angle to the range [-pi, +pi].\n",
        "param angle: The angle (in rad) to wrap (can be unbounded).\n",
        "return: The wrapped angle (guaranteed to in [-pi, +pi]).'''\n",
        "\n",
        "def wrap_angle(angle):\n",
        "    pi2 = 2 * np.pi\n",
        "    while angle < -np.pi:\n",
        "        angle += pi2\n",
        "    while angle >= np.pi:\n",
        "        angle -= pi2\n",
        "    return angle"
      ],
      "id": "strategic-catholic",
      "execution_count": null,
      "outputs": []
    },
    {
      "cell_type": "code",
      "metadata": {
        "id": "mineral-expert"
      },
      "source": [
        "import math\n",
        " \n",
        "def euler_from_quaternion(x, y, z, w):\n",
        "        \"\"\"\n",
        "        Convert a quaternion into euler angles (roll, pitch, yaw)\n",
        "        roll is rotation around x in radians (counterclockwise)\n",
        "        pitch is rotation around y in radians (counterclockwise)\n",
        "        yaw is rotation around z in radians (counterclockwise)\n",
        "        \"\"\"\n",
        "        t0 = +2.0 * (w * x + y * z)\n",
        "        t1 = +1.0 - 2.0 * (x * x + y * y)\n",
        "        roll_x = math.atan2(t0, t1)\n",
        "     \n",
        "        t2 = +2.0 * (w * y - z * x)\n",
        "        t2 = +1.0 if t2 > +1.0 else t2\n",
        "        t2 = -1.0 if t2 < -1.0 else t2\n",
        "        pitch_y = math.asin(t2)\n",
        "     \n",
        "        t3 = +2.0 * (w * z + x * y)\n",
        "        t4 = +1.0 - 2.0 * (y * y + z * z)\n",
        "        yaw_z = math.atan2(t3, t4)\n",
        "     \n",
        "        return roll_x, pitch_y, yaw_z "
      ],
      "id": "mineral-expert",
      "execution_count": null,
      "outputs": []
    },
    {
      "cell_type": "code",
      "metadata": {
        "id": "altered-diana"
      },
      "source": [
        "def get_grid_size(map_cor, gt_cor, cor='x'):\n",
        "  grid_size = np.arange(0.5, 1.7, 0.01)\n",
        "  error = np.inf\n",
        "  for i in grid_size:\n",
        "    if cor == 'x':\n",
        "      gt_px = (gt_cor//i) + map_cor[0]\n",
        "    else:\n",
        "      gt_px = (-gt_cor//i) + map_cor[0]\n",
        "    error_i = np.sum(np.abs(gt_px - map_cor))\n",
        "    if error_i <= error:\n",
        "      error = error_i\n",
        "      result = i\n",
        "  return result"
      ],
      "id": "altered-diana",
      "execution_count": null,
      "outputs": []
    },
    {
      "cell_type": "code",
      "metadata": {
        "id": "headed-toner"
      },
      "source": [
        "def reducing_res_img(Image, div):\n",
        "    New = np.zeros([int(Image.shape[0]/div), int(Image.shape[1]/div)])\n",
        "    for i in range(New.shape[0]):\n",
        "        for j in range(New.shape[1]):\n",
        "            New[i,j] = Image[int(i*div),int(j*div)]\n",
        "    \n",
        "    return New"
      ],
      "id": "headed-toner",
      "execution_count": null,
      "outputs": []
    },
    {
      "cell_type": "code",
      "metadata": {
        "id": "am5SUJC3q_td"
      },
      "source": [
        "def unit_low_variance_sampling(states, weights, i, c, r, m):\n",
        "   M = states.shape[0]\n",
        "   U = r + (m)*(1/M)\n",
        "   while U > c: \n",
        "     i = i + 1\n",
        "     c = c + weights[i]\n",
        "     if i == M-1:\n",
        "       i = 0\n",
        "   resampled_p = states[i]\n",
        "   resampled_w = weights[i]\n",
        "   return resampled_p, resampled_w, i, c  "
      ],
      "id": "am5SUJC3q_td",
      "execution_count": null,
      "outputs": []
    },
    {
      "cell_type": "code",
      "metadata": {
        "id": "M6QgkUgVTivq"
      },
      "source": [
        "class KLDSampling:\n",
        "    ABSOLUTE_MIN = 10;\n",
        "    \"\"\" A helper class for KLDSampling in Python \"\"\"\n",
        "#/**\n",
        "#   Initialize a round of KLD sampling.  Takes in kld-parameters:\n",
        "#   quantile, kld-error, bin size, minimum number of samples\n",
        "#**/\n",
        "    def __init__(self,quantile, err, bsz, sample_min) :\n",
        "\n",
        "        # Constructs Z-table (from ztable.data) to lookup statistics.\n",
        "\n",
        "        self.ztable = [ 0.0000000e+00,3.9900000e-03,7.9800000e-03,1.1970000e-02,1.5950000e-02,1.9940000e-02,2.3920000e-02,2.7900000e-02,3.1880000e-02,3.5860000e-02,3.9830000e-02,4.3800000e-02,4.7760000e-02,5.1720000e-02,5.5670000e-02,5.9620000e-02,6.3560000e-02,6.7490000e-02,7.1420000e-02,7.5350000e-02,7.9260000e-02,8.3170000e-02,8.7060000e-02,9.0950000e-02,9.4830000e-02,9.8710000e-02,1.0257000e-01,1.0642000e-01,1.1026000e-01,1.1409000e-01,1.1791000e-01,1.2172000e-01,1.2552000e-01,1.2930000e-01,1.3307000e-01,1.3683000e-01,1.4058000e-01,1.4431000e-01,1.4803000e-01,1.5173000e-01,1.5542000e-01,1.5910000e-01,1.6276000e-01,1.6640000e-01,1.7003000e-01,1.7364000e-01,1.7724000e-01,1.8082000e-01,1.8439000e-01,1.8793000e-01,1.9146000e-01,1.9497000e-01,1.9847000e-01,2.0194000e-01,2.0540000e-01,2.0884000e-01,2.1226000e-01,2.1566000e-01,2.1904000e-01,2.2240000e-01,2.2575000e-01,2.2907000e-01,2.3237000e-01,2.3565000e-01,2.3891000e-01,2.4215000e-01,2.4537000e-01,2.4857000e-01,2.5175000e-01,2.5490000e-01,2.5804000e-01,2.6115000e-01,2.6424000e-01,2.6730000e-01,2.7035000e-01,2.7337000e-01,2.7637000e-01,2.7935000e-01,2.8230000e-01,2.8524000e-01,2.8814000e-01,2.9103000e-01,2.9389000e-01,2.9673000e-01,2.9955000e-01,3.0234000e-01,3.0511000e-01,3.0785000e-01,3.1057000e-01,3.1327000e-01,3.1594000e-01,3.1859000e-01,3.2121000e-01,3.2381000e-01,3.2639000e-01,3.2894000e-01,3.3147000e-01,3.3398000e-01,3.3646000e-01,3.3891000e-01,3.4134000e-01,3.4375000e-01,3.4614000e-01,3.4849000e-01,3.5083000e-01,3.5314000e-01,3.5543000e-01,3.5769000e-01,3.5993000e-01,3.6214000e-01,3.6433000e-01,3.6650000e-01,3.6864000e-01,3.7076000e-01,3.7286000e-01,3.7493000e-01,3.7698000e-01,3.7900000e-01,3.8100000e-01,3.8298000e-01,3.8493000e-01,3.8686000e-01,3.8877000e-01,3.9065000e-01,3.9251000e-01,3.9435000e-01,3.9617000e-01,3.9796000e-01,3.9973000e-01,4.0147000e-01,4.0320000e-01,4.0490000e-01,4.0658000e-01,4.0824000e-01,4.0988000e-01,4.1149000e-01,4.1308000e-01,4.1466000e-01,4.1621000e-01,4.1774000e-01,4.1924000e-01,4.2073000e-01,4.2220000e-01,4.2364000e-01,4.2507000e-01,4.2647000e-01,4.2785000e-01,4.2922000e-01,4.3056000e-01,4.3189000e-01,4.3319000e-01,4.3448000e-01,4.3574000e-01,4.3699000e-01,4.3822000e-01,4.3943000e-01,4.4062000e-01,4.4179000e-01,4.4295000e-01,4.4408000e-01,4.4520000e-01,4.4630000e-01,4.4738000e-01,4.4845000e-01,4.4950000e-01,4.5053000e-01,4.5154000e-01,4.5254000e-01,4.5352000e-01,4.5449000e-01,4.5543000e-01,4.5637000e-01,4.5728000e-01,4.5818000e-01,4.5907000e-01,4.5994000e-01,4.6080000e-01,4.6164000e-01,4.6246000e-01,4.6327000e-01,4.6407000e-01,4.6485000e-01,4.6562000e-01,4.6638000e-01,4.6712000e-01,4.6784000e-01,4.6856000e-01,4.6926000e-01,4.6995000e-01,4.7062000e-01,4.7128000e-01,4.7193000e-01,4.7257000e-01,4.7320000e-01,4.7381000e-01,4.7441000e-01,4.7500000e-01,4.7558000e-01,4.7615000e-01,4.7670000e-01,4.7725000e-01,4.7778000e-01,4.7831000e-01,4.7882000e-01,4.7932000e-01,4.7982000e-01,4.8030000e-01,4.8077000e-01,4.8124000e-01,4.8169000e-01,4.8214000e-01,4.8257000e-01,4.8300000e-01,4.8341000e-01,4.8382000e-01,4.8422000e-01,4.8461000e-01,4.8500000e-01,4.8537000e-01,4.8574000e-01,4.8610000e-01,4.8645000e-01,4.8679000e-01,4.8713000e-01,4.8745000e-01,4.8778000e-01,4.8809000e-01,4.8840000e-01,4.8870000e-01,4.8899000e-01,4.8928000e-01,4.8956000e-01,4.8983000e-01,4.9010000e-01,4.9036000e-01,4.9061000e-01,4.9086000e-01,4.9111000e-01,4.9134000e-01,4.9158000e-01,4.9180000e-01,4.9202000e-01,4.9224000e-01,4.9245000e-01,4.9266000e-01,4.9286000e-01,4.9305000e-01,4.9324000e-01,4.9343000e-01,4.9361000e-01,4.9379000e-01,4.9396000e-01,4.9413000e-01,4.9430000e-01,4.9446000e-01,4.9461000e-01,4.9477000e-01,4.9492000e-01,4.9506000e-01,4.9520000e-01,4.9534000e-01,4.9547000e-01,4.9560000e-01,4.9573000e-01,4.9585000e-01,4.9598000e-01,4.9609000e-01,4.9621000e-01,4.9632000e-01,4.9643000e-01,4.9653000e-01,4.9664000e-01,4.9674000e-01,4.9683000e-01,4.9693000e-01,4.9702000e-01,4.9711000e-01,4.9720000e-01,4.9728000e-01,4.9736000e-01,4.9744000e-01,4.9752000e-01,4.9760000e-01,4.9767000e-01,4.9774000e-01,4.9781000e-01,4.9788000e-01,4.9795000e-01,4.9801000e-01,4.9807000e-01,4.9813000e-01,4.9819000e-01,4.9825000e-01,4.9831000e-01,4.9836000e-01,4.9841000e-01,4.9846000e-01,4.9851000e-01,4.9856000e-01,4.9861000e-01,4.9865000e-01,4.9869000e-01,4.9874000e-01,4.9878000e-01,4.9882000e-01,4.9886000e-01,4.9889000e-01,4.9893000e-01,4.9896000e-01,4.9900000e-01,4.9903000e-01,4.9906000e-01,4.9910000e-01,4.9913000e-01,4.9916000e-01,4.9918000e-01,4.9921000e-01,4.9924000e-01,4.9926000e-01,4.9929000e-01,4.9931000e-01,4.9934000e-01,4.9936000e-01,4.9938000e-01,4.9940000e-01,4.9942000e-01,4.9944000e-01,4.9946000e-01,4.9948000e-01,4.9950000e-01,4.9952000e-01,4.9953000e-01,4.9955000e-01,4.9957000e-01,4.9958000e-01,4.9960000e-01,4.9961000e-01,4.9962000e-01,4.9964000e-01,4.9965000e-01,4.9966000e-01,4.9968000e-01,4.9969000e-01,4.9970000e-01,4.9971000e-01,4.9972000e-01,4.9973000e-01,4.9974000e-01,4.9975000e-01,4.9976000e-01,4.9977000e-01,4.9978000e-01,4.9978000e-01,4.9979000e-01,4.9980000e-01,4.9981000e-01,4.9981000e-01,4.9982000e-01,4.9983000e-01,4.9983000e-01,4.9984000e-01,4.9985000e-01,4.9985000e-01,4.9986000e-01,4.9986000e-01,4.9987000e-01,4.9987000e-01,4.9988000e-01,4.9988000e-01,4.9989000e-01,4.9989000e-01,4.9990000e-01,4.9990000e-01,4.9990000e-01,4.9991000e-01,4.9991000e-01,4.9992000e-01,4.9992000e-01,4.9992000e-01,4.9992000e-01,4.9993000e-01,4.9993000e-01,4.9993000e-01,4.9994000e-01,4.9994000e-01,4.9994000e-01,4.9994000e-01,4.9995000e-01,4.9995000e-01,4.9995000e-01,4.9995000e-01,4.9995000e-01,4.9996000e-01,4.9996000e-01,4.9996000e-01,4.9996000e-01,4.9996000e-01,4.9996000e-01,4.9997000e-01,4.9997000e-01,4.9997000e-01,4.9997000e-01,4.9997000e-01,4.9997000e-01,4.9997000e-01,4.9997000e-01,4.9998000e-01,4.9998000e-01,4.9998000e-01,4.9998000e-01];\n",
        "\n",
        "        self.support_samples=0;\n",
        "        self.num_samples=0;\n",
        "\n",
        "        if (sample_min < self.ABSOLUTE_MIN):\n",
        "            self.kld_samples=self.ABSOLUTE_MIN;\n",
        "        else:\n",
        "            self.kld_samples=sample_min;\n",
        "\n",
        "        self.bins = [[]]; # bins is a list of lists\n",
        "                          # each list is an N-dim bin of support\n",
        "\n",
        "        confidence=quantile-0.5; # ztable is from right side of mean\n",
        "        confidence=min(0.49998,max(0,confidence));\n",
        "\n",
        "        self.max_error=err;\n",
        "        self.bin_size=bsz; # list of lists\n",
        "\n",
        "        self.zvalue=4.1;\n",
        "        for i in range(len(self.ztable)):\n",
        "          if (self.ztable[i] >= confidence):\n",
        "            self.zvalue=i/100.0;\n",
        "            break;\n",
        "\n",
        "        print(\"zvalue is \",self.zvalue)\n",
        "\n",
        "\n",
        "#/**\n",
        "#   Update kld-sampler with the last sample drawn.  Returns a guess at\n",
        "#   the number of samples needed before the distribution (which is\n",
        "#   unknown) is adequately sampled.\n",
        "#\n",
        "#   sample = list of lists - each item is a list of dims\n",
        "#**/\n",
        "    def update(self,sample) :\n",
        "        #print \"updating with samples\"\n",
        "        assert len(sample[0])==len(self.bin_size), \\\n",
        "               \"kld-sampling: Sample size not the same number of dimensions as the bins\\n\";\n",
        "\n",
        "        self.num_samples = self.num_samples+1;\n",
        "        if self.in_empty_bin(sample):\n",
        "            self.add_to_bins(sample);\n",
        "            self.support_samples = self.support_samples+1;\n",
        "            if self.support_samples>=2:\n",
        "                k = self.support_samples-1;\n",
        "                k=math.ceil(k/(2*self.max_error)*pow(1-2/(9.0*k)+math.sqrt(2/(9.0*k))*self.zvalue,3));\n",
        "                if k>self.kld_samples:\n",
        "                    self.kld_samples = k;\n",
        "\n",
        "        #print \"done updating\";\n",
        "        return self.kld_samples;\n",
        "\n",
        "#/**\n",
        "#   Determines whether a sample falls into a bin that has already been\n",
        "#   sampled.\n",
        "# **/\n",
        "    def in_empty_bin(self,sample):\n",
        "        # init case - bins are empty\n",
        "        if len(self.bins)==0:\n",
        "            return True;\n",
        "\n",
        "        # check against existing bins\n",
        "        curr_bin = [ math.floor(sample[0][i]/self.bin_size[i]) for i in range(len(self.bin_size))]\n",
        "        if curr_bin in self.bins:\n",
        "            #print(\"sample\", sample,\" is in bin \",curr_bin,\" already\");\n",
        "            return False;\n",
        "        else:\n",
        "            #print(\"sample\", sample,\" NOT in bins \",self.bins,\" yet\");\n",
        "            return True;\n",
        "\n",
        "        print(\"done.\")\n",
        "\n",
        "    def add_to_bins(self,sample):\n",
        "        curr_bin = [ math.floor(sample[0][i]/self.bin_size[i]) for i in range(len(self.bin_size))]\n",
        "        #print \"adding sample\", sample,\" to bins \",self.bins;\n",
        "        #curr_bin = math.floor(sample/self.bin_size)\n",
        "        self.bins.append(curr_bin);\n",
        "        #print \"done adding sample\", sample,\" to bins \",self.bins;"
      ],
      "id": "M6QgkUgVTivq",
      "execution_count": null,
      "outputs": []
    },
    {
      "cell_type": "code",
      "metadata": {
        "id": "13lbuDObs0my"
      },
      "source": [
        "def rescale_img(img, scale_percent):\n",
        "  width = int(img.shape[0] * scale_percent / 100)\n",
        "  height = int(img.shape[1] * scale_percent / 100)\n",
        "  dim = (height,width)\n",
        "  # resize image\n",
        "  resized = cv2.resize(img, dim, interpolation = cv2.INTER_AREA)\n",
        "  return resized"
      ],
      "id": "13lbuDObs0my",
      "execution_count": null,
      "outputs": []
    },
    {
      "cell_type": "code",
      "metadata": {
        "id": "NNwXpyhJtOZI"
      },
      "source": [
        "def rescale_map_coor(MAPx, MAPy, scale_percent):\n",
        "  resized_mapx = []\n",
        "  resized_mapy = []\n",
        "  for i in range(MAPx.shape[0]):\n",
        "    resized_mapx.append(int(MAPx[i] * scale_percent / 100))\n",
        "    resized_mapy.append(int(MAPy[i] * scale_percent / 100))\n",
        "  return resized_mapx, resized_mapy"
      ],
      "id": "NNwXpyhJtOZI",
      "execution_count": null,
      "outputs": []
    },
    {
      "cell_type": "code",
      "metadata": {
        "id": "J5Ln_dvEoupB"
      },
      "source": [
        "def get_new_traj(traj, skip_steps):\n",
        "  new_traj = []\n",
        "  for i in range(0, traj.shape[0], skip_steps):\n",
        "    new_traj.append(traj[i])\n",
        "  return new_traj\n",
        "\n",
        "def get_new_obs(obs, skip_steps):\n",
        "  new_obs = []\n",
        "  for i in range(0, obs.shape[0], skip_steps):\n",
        "    new_obs.append(obs[i])\n",
        "  return new_obs"
      ],
      "id": "J5Ln_dvEoupB",
      "execution_count": null,
      "outputs": []
    },
    {
      "cell_type": "markdown",
      "metadata": {
        "id": "Gzx1wMOxuHBm"
      },
      "source": [
        "## PF-KLD"
      ],
      "id": "Gzx1wMOxuHBm"
    },
    {
      "cell_type": "code",
      "metadata": {
        "id": "4TfqHx-UvloR"
      },
      "source": [
        "def PF_KLD(Stminus1, wtminus1, observation, action, action_cov, action_alphas, map, grid_size, map_center, kld_quantile, kld_error, kld_bin_size, min_samples):\n",
        "  \n",
        "  num_samples=0\n",
        "  S_t = []\n",
        "  w_t = []\n",
        "  Pf_loc = []\n",
        "  # Extract motion commands\n",
        "  dtrans = action[0]\n",
        "  drot = action[1]\n",
        "  # Map grid size\n",
        "  map_px = grid_size[0]\n",
        "  map_py = grid_size[1]\n",
        "  # Map Center\n",
        "  mapx_c = map_center[0]\n",
        "  mapy_c = map_center[1]\n",
        "  # Create a KLD Sampler\n",
        "  sampler= KLDSampling(quantile,kld_error,bin_size,min_samples)\n",
        "  # initialize low variance resampling \n",
        "  M = Stminus1.shape[0]\n",
        "  ii = 0\n",
        "  cc = wtminus1[0]\n",
        "  rr = uniform(0, 1/M, 1)\n",
        "  # KLD loop\n",
        "  while (num_samples < min_samples):\n",
        "    # Resample particle state from previous belief\n",
        "    resampled_S_tminus1, resampled_w, ii, cc  = unit_low_variance_sampling(Stminus1, wtminus1, ii, cc, rr, num_samples)\n",
        "    # Propagate the resampled particle\n",
        "    current_state = propagate_particle(resampled_S_tminus1, np.array([dtrans,drot]), action_cov, action_alphas)\n",
        "    S_t.append(current_state)\n",
        "    num_samples = num_samples + 1\n",
        "    # Compute importance weight\n",
        "    # Read current Observation\n",
        "    Img_test = Image.open('FC-200/' + observation).convert('LA')\n",
        "    Img_test = np.array(Img_test)\n",
        "    Img_test = Img_test[:,:,0]\n",
        "    Img_test = rescale_img(Img_test, 33)\n",
        "    #Img_test = reducing_res_img(Img_test[:,:,0], 2.75)\n",
        "    Img_test = rescale_img(Img_test, LOWER_RES)\n",
        "    # Crop true image from map \n",
        "    # Obtaining current pose in map coordinates\n",
        "    px_gt = (current_state[0]//map_px) + mapx_c\n",
        "    py_gt = (-current_state[1]//map_py) + mapy_c\n",
        "    a = get_prob(Img_test, map, np.array([[py_gt,px_gt,-current_state[2]+np.pi/2]]),0.2)\n",
        "    w_t.append(a)\n",
        "    min_samples = sampler.update([list(current_state)])\n",
        "  \n",
        "  S_t = np.array(S_t)\n",
        "  w_t = np.array(w_t)\n",
        "\n",
        "  x = 0; y = 0;theta=0;\n",
        "  b = w_t/np.sum(w_t)\n",
        "  for i in range(min_samples):\n",
        "    x = x + (b[i] * S_t[i,0])\n",
        "    y = y + (b[i] * S_t[i,1])\n",
        "    theta = theta + (b[i] * S_t[i,2])\n",
        "  Pf_loc.append([x,y,theta])\n",
        "  return Pf_loc, S_t, b, min_samples"
      ],
      "id": "4TfqHx-UvloR",
      "execution_count": null,
      "outputs": []
    },
    {
      "cell_type": "code",
      "metadata": {
        "colab": {
          "base_uri": "https://localhost:8080/"
        },
        "id": "AKdAUqUINVTM",
        "outputId": "246ca7e6-bdac-4041-97c7-fb0875d3a3a2"
      },
      "source": [
        "cd '/content/drive/MyDrive/Perception in Robotics project'"
      ],
      "id": "AKdAUqUINVTM",
      "execution_count": null,
      "outputs": [
        {
          "output_type": "stream",
          "text": [
            "/content/drive/MyDrive/Perception in Robotics project\n"
          ],
          "name": "stdout"
        }
      ]
    },
    {
      "cell_type": "code",
      "metadata": {
        "id": "Qte-Xk7ZNWiU"
      },
      "source": [
        "# Read the dataset\n",
        "df = pandas.read_csv('FC-200/metadata.csv') \n",
        "\n",
        "svo_x = df['SvoX'] #svo_localization\n",
        "svo_y = df['SvoY']\n",
        "\n",
        "# Derive motion commands from SVO localization \n",
        "dtrans, drot = get_svo_commands(svo_x, svo_y)\n",
        "\n",
        "new_svox = get_new_traj(svo_x, SKIP_STEPS)\n",
        "new_svoy = get_new_traj(svo_y, SKIP_STEPS)\n",
        "\n",
        "gt_x = df['PoseX'] #gt_localization\n",
        "gt_y = df['PoseY']\n",
        "new_gtx = get_new_traj(gt_x, SKIP_STEPS)\n",
        "new_gty = get_new_traj(gt_y, SKIP_STEPS)\n",
        "\n",
        "mapx = df['MapX'] #gt map localization\n",
        "mapy = df['MapY']\n",
        "new_mapx = get_new_traj(mapx, SKIP_STEPS)\n",
        "new_mapy = get_new_traj(mapy, SKIP_STEPS)\n",
        "\n",
        "img_id = df['Filename']\n",
        "new_img_id = get_new_obs(img_id, SKIP_STEPS)\n",
        "\n",
        "# reading map \n",
        "map = Image.open('m_3808658_nw_16_1_20080717.tif').convert('LA')\n",
        "map=np.array(map)\n",
        "map=map[:,:,0]\n",
        "map = rescale_img(map, LOWER_RES)\n",
        "\n",
        "# We are only use map localization and gt_localization \n",
        "# to know the pixel size used because it was not mentioned\n",
        "# by the author \n",
        "res_mapx, res_mapy = rescale_map_coor(np.array(new_mapx),np.array(new_mapy), LOWER_RES)\n",
        "map_px = get_grid_size(res_mapx, np.array(new_gtx), cor='x')\n",
        "map_py = get_grid_size(res_mapy, np.array(new_gty), cor='y')"
      ],
      "id": "Qte-Xk7ZNWiU",
      "execution_count": null,
      "outputs": []
    },
    {
      "cell_type": "code",
      "metadata": {
        "id": "FICef6IY7yBi"
      },
      "source": [
        "new_gtx = np.array(new_gtx)\n",
        "new_gty = np.array(new_gty)\n",
        "new_svox = np.array(new_svox)\n",
        "new_svoy = np.array(new_svoy)\n",
        "\n",
        "np.save('SVOX.npy', new_svox)\n",
        "np.save('SVOY.npy', new_svoy)\n",
        "np.save('GTX.npy', new_gtx)\n",
        "np.save('GTY.npy', new_gty)"
      ],
      "id": "FICef6IY7yBi",
      "execution_count": null,
      "outputs": []
    },
    {
      "cell_type": "code",
      "metadata": {
        "id": "RMf5_DZzjTLs"
      },
      "source": [
        "Pf_Pose = []\n",
        "Pf_w = []\n",
        "final_loc = []\n",
        "\n",
        "#Initialize Particle Filter \n",
        "#KLD Parameters\n",
        "quantile=0.95\n",
        "kld_error = 0.1\n",
        "bin_size = [5,5,0.175]\n",
        "min_samples=10\n",
        "\n",
        "#Define action noise parameters\n",
        "alphas = np.array([1, 1, 1])\n",
        "cov = 1/3\n",
        "\n",
        "# Define initial number of particles\n",
        "num_particles = 1000\n",
        "\n",
        "# create initial particle set\n",
        "initial_state = np.array([gt_x[0],gt_y[0],0])\n",
        "S_tminus1 = initiate_particles(initial_state,num_particles)\n",
        "\n",
        "# create initial weights \n",
        "w_tminus1 = np.ones(num_particles)\n",
        "w_tminus1 = w_tminus1/np.sum(w_tminus1)\n",
        "\n",
        "Pf_w.append(w_tminus1)\n",
        "Pf_Pose.append(S_tminus1)\n",
        "final_loc.append([gt_x[0], gt_y[0], 0])"
      ],
      "id": "RMf5_DZzjTLs",
      "execution_count": null,
      "outputs": []
    },
    {
      "cell_type": "code",
      "metadata": {
        "id": "Naadb4IC6vi4"
      },
      "source": [
        "grid = [map_px, map_py]\n",
        "map_c = [res_mapx[0], res_mapy[0]]\n",
        "N = []\n",
        "\n",
        "for j in range(dtrans.shape[0]):\n",
        "  print(j)\n",
        "  action = [dtrans[j], drot[j]]\n",
        "  obs = new_img_id[j+1]\n",
        "  pose, St, wt, n = PF_KLD(Pf_Pose[-1], Pf_w[-1], obs, action, cov, alphas, map, grid, map_c, quantile, kld_error, bin_size, min_samples)\n",
        "  Pf_Pose.append(St)\n",
        "  Pf_w.append(wt)\n",
        "  final_loc.append(pose[0])\n",
        "  print(n)\n",
        "  N.append(n)"
      ],
      "id": "Naadb4IC6vi4",
      "execution_count": null,
      "outputs": []
    },
    {
      "cell_type": "code",
      "metadata": {
        "id": "jRcACCXcGzMQ"
      },
      "source": [
        ""
      ],
      "id": "jRcACCXcGzMQ",
      "execution_count": null,
      "outputs": []
    }
  ]
}